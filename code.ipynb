{
 "cells": [
  {
   "cell_type": "markdown",
   "id": "a4315a07",
   "metadata": {},
   "source": [
    "# RETAIL CONSUMER SEGMENTATION USING K-MEANS CLUSTERING ALGORITHM"
   ]
  },
  {
   "cell_type": "markdown",
   "id": "b3985ff6",
   "metadata": {},
   "source": [
    "<u>**INTRODUCTION**</u>\n",
    "\n",
    "For the improvement of business and to improve relative marketing techniques, segmentation of consumers is done. Consumer segmentation generally involves dividing of customers into different groups based on different criteria. In this project the segmentation of customers is done based on RFM analysis technique.\n",
    "\n",
    "The dataset used in this project is an online retail dataset of a company which mainly sold unique gifts for UK-based and registered non-store online retail and has various transactions occurred between 12/01/2010 and 12/09/2011 with 8 different parameters. The 8 parameters are InvoiceNo, StockCode, Description, Quantity, InvoiceDate, UnitPrice, CustomerID and Country. \n",
    "\n",
    "In this project the customers are categorized based on RFM analysis technique. In RFM nalysis technique R stands for Recency which means how long ago the customer has purchased his last product from the company, F stands for Frequency which means how frequently the customer has been purchasing products from the company and M stands for Monetary which means how much value of products the customer purchased from company.\n",
    "Based on this definition of RFM the customers are classified into three categories which are:\n",
    "\n",
    "1. Customers who are recent buyers\n",
    "\n",
    "2. Customers who are frequent buyers\n",
    "\n",
    "3. Customers with high amount of transactions. \n",
    "\n",
    "This type of classification helps a company to identify it's most valuable customer groups and then can further do analysis of the type of products bought by each group which helps in increasing the market and strategical value of the company.\n",
    "Once the three factors of RFM are obtained for each customer, k-means clustering algorithm is used for segmentation of customers. K-means clustering algorithm is used as in this algorithm customers can be grouped together into clusters based on the similarities among them. Once the customers are clustered it is easy for an organization to understand, which group of customers are to be focused depending on the business need/idea.\n"
   ]
  },
  {
   "cell_type": "markdown",
   "id": "c6e24d32",
   "metadata": {},
   "source": [
    "<u>**METHODS**</u>"
   ]
  },
  {
   "cell_type": "markdown",
   "id": "9b225596",
   "metadata": {},
   "source": [
    "To start with the required libraries are imported."
   ]
  },
  {
   "cell_type": "code",
   "execution_count": 1,
   "id": "044e5a44",
   "metadata": {},
   "outputs": [],
   "source": [
    "# libraries required\n",
    "\n",
    "import numpy as np\n",
    "import pandas as pd\n",
    "import matplotlib as plt\n",
    "import datetime as dt\n",
    "\n",
    "import sklearn\n",
    "from sklearn.cluster import KMeans\n",
    "from sklearn.metrics import silhouette_score\n",
    "import random\n",
    "import matplotlib.pyplot as plt\n",
    "import seaborn as sb\n"
   ]
  },
  {
   "cell_type": "markdown",
   "id": "48b28d3c",
   "metadata": {},
   "source": [
    "Once the libraries are imported the next step is to load the dataset into environment. Once the dataset is loaded into the environment the structure of the raw dataset is obtained."
   ]
  },
  {
   "cell_type": "code",
   "execution_count": 2,
   "id": "e6787256",
   "metadata": {},
   "outputs": [
    {
     "name": "stdout",
     "output_type": "stream",
     "text": [
      "<class 'pandas.core.frame.DataFrame'>\n",
      "RangeIndex: 541909 entries, 0 to 541908\n",
      "Data columns (total 8 columns):\n",
      " #   Column       Non-Null Count   Dtype  \n",
      "---  ------       --------------   -----  \n",
      " 0   InvoiceNo    541909 non-null  object \n",
      " 1   StockCode    541909 non-null  object \n",
      " 2   Description  540455 non-null  object \n",
      " 3   Quantity     541909 non-null  int64  \n",
      " 4   InvoiceDate  541909 non-null  object \n",
      " 5   UnitPrice    541909 non-null  float64\n",
      " 6   CustomerID   406829 non-null  float64\n",
      " 7   Country      541909 non-null  object \n",
      "dtypes: float64(2), int64(1), object(5)\n",
      "memory usage: 33.1+ MB\n"
     ]
    }
   ],
   "source": [
    "# importing csv data\n",
    "\n",
    "data= pd.read_csv('C:/Users/dell/Downloads/OnlineRetail/OnlineRetail.csv', encoding=\"ISO-8859-1\" ,header=0)\n",
    "data.info()"
   ]
  },
  {
   "cell_type": "markdown",
   "id": "b81182de",
   "metadata": {},
   "source": [
    "The raw dataset has 8 columns with 541909 rows, the 8 columns and their datatypes are defined as follows\n",
    "\n",
    "1. InvoiceNo is the 6 digit invoice number assigned to each transaction and has datatype as object.\n",
    "\n",
    "2. StockCode is the 5 digit Product Code number of each item in the stock and has datatype as object.\n",
    "\n",
    "3. Description is the name of the product with datatype as object.\n",
    "\n",
    "4. Quantity is the number of products present in each transaction and has datatype as integer.\n",
    "\n",
    "5. InvoiceDate is the date and time of each transaction made and has datatype as object.\n",
    "\n",
    "6. UnitPrice is the price of each product and is of datatype float.\n",
    "\n",
    "7. CustomerID is the unique 5 digit number assigned to each customer and is of datatype float.\n",
    "\n",
    "8. Country is the name of the country where the customer resides and is of datatype object.\n",
    "\n",
    "To identify the best model the raw data should be cleansed first. The first step in data cleansing involves identifying and removing null values.\n"
   ]
  },
  {
   "cell_type": "code",
   "execution_count": 3,
   "id": "3317bf4c",
   "metadata": {},
   "outputs": [
    {
     "data": {
      "text/plain": [
       "InvoiceNo           0\n",
       "StockCode           0\n",
       "Description      1454\n",
       "Quantity            0\n",
       "InvoiceDate         0\n",
       "UnitPrice           0\n",
       "CustomerID     135080\n",
       "Country             0\n",
       "dtype: int64"
      ]
     },
     "execution_count": 3,
     "metadata": {},
     "output_type": "execute_result"
    }
   ],
   "source": [
    "#identifying null values\n",
    "\n",
    "data.isnull().sum() \n",
    "    "
   ]
  },
  {
   "cell_type": "markdown",
   "id": "d2c2430a",
   "metadata": {},
   "source": [
    "From the above output, it is observed that there are null values in the columns Description and CustomerID. These columns can be dropped because having customers without customerId would not add to the analysis of RFM method as customer ID is used as the primary distinguisher in clustering groups."
   ]
  },
  {
   "cell_type": "code",
   "execution_count": 4,
   "id": "b0b5d458",
   "metadata": {},
   "outputs": [
    {
     "data": {
      "text/plain": [
       "(406829, 8)"
      ]
     },
     "execution_count": 4,
     "metadata": {},
     "output_type": "execute_result"
    }
   ],
   "source": [
    "#removing null values\n",
    "\n",
    "data= data.dropna()\n",
    "data.shape"
   ]
  },
  {
   "cell_type": "markdown",
   "id": "cbe2d575",
   "metadata": {},
   "source": [
    "After removing the null values, the dataset has 8 columns and 406829 rows.\n",
    "\n",
    "The next step is to change the data type of Invoice date to date datattype. This is necessary step as the InvoiceDate parameter is used in next steps while obtaining the Recency category in RFM analysis.\n"
   ]
  },
  {
   "cell_type": "code",
   "execution_count": 5,
   "id": "e4826186",
   "metadata": {},
   "outputs": [],
   "source": [
    "#converting InvoiceDate datatype\n",
    "\n",
    "timeformat='%d-%m-%Y %H:%M'\n",
    "data['InvoiceDate']= pd.to_datetime(data['InvoiceDate'], format=timeformat)"
   ]
  },
  {
   "cell_type": "markdown",
   "id": "75df3277",
   "metadata": {},
   "source": [
    "The next step of analysis is to identify the recency, frequency and monetary values of the customers who purchased from the company.\n",
    "\n",
    "<u>RECENCY:</u>\n",
    "\n",
    "InvoiceDate is the key parameter in calculating the recency of purchase. Frist the latest transaction date is identified then the difference between the latest transaction date and the transaction date of each customer is used to identify when a customer bought the last item from the company. This identification is mentioned in days and stored under a new column in the existing dataset."
   ]
  },
  {
   "cell_type": "code",
   "execution_count": 6,
   "id": "17aa875b",
   "metadata": {},
   "outputs": [
    {
     "data": {
      "text/html": [
       "<div>\n",
       "<style scoped>\n",
       "    .dataframe tbody tr th:only-of-type {\n",
       "        vertical-align: middle;\n",
       "    }\n",
       "\n",
       "    .dataframe tbody tr th {\n",
       "        vertical-align: top;\n",
       "    }\n",
       "\n",
       "    .dataframe thead th {\n",
       "        text-align: right;\n",
       "    }\n",
       "</style>\n",
       "<table border=\"1\" class=\"dataframe\">\n",
       "  <thead>\n",
       "    <tr style=\"text-align: right;\">\n",
       "      <th></th>\n",
       "      <th>InvoiceNo</th>\n",
       "      <th>StockCode</th>\n",
       "      <th>Description</th>\n",
       "      <th>Quantity</th>\n",
       "      <th>InvoiceDate</th>\n",
       "      <th>UnitPrice</th>\n",
       "      <th>CustomerID</th>\n",
       "      <th>Country</th>\n",
       "      <th>Recency</th>\n",
       "    </tr>\n",
       "  </thead>\n",
       "  <tbody>\n",
       "    <tr>\n",
       "      <th>0</th>\n",
       "      <td>536365</td>\n",
       "      <td>85123A</td>\n",
       "      <td>WHITE HANGING HEART T-LIGHT HOLDER</td>\n",
       "      <td>6</td>\n",
       "      <td>2010-12-01 08:26:00</td>\n",
       "      <td>2.55</td>\n",
       "      <td>17850.0</td>\n",
       "      <td>United Kingdom</td>\n",
       "      <td>373</td>\n",
       "    </tr>\n",
       "    <tr>\n",
       "      <th>1</th>\n",
       "      <td>536365</td>\n",
       "      <td>71053</td>\n",
       "      <td>WHITE METAL LANTERN</td>\n",
       "      <td>6</td>\n",
       "      <td>2010-12-01 08:26:00</td>\n",
       "      <td>3.39</td>\n",
       "      <td>17850.0</td>\n",
       "      <td>United Kingdom</td>\n",
       "      <td>373</td>\n",
       "    </tr>\n",
       "    <tr>\n",
       "      <th>2</th>\n",
       "      <td>536365</td>\n",
       "      <td>84406B</td>\n",
       "      <td>CREAM CUPID HEARTS COAT HANGER</td>\n",
       "      <td>8</td>\n",
       "      <td>2010-12-01 08:26:00</td>\n",
       "      <td>2.75</td>\n",
       "      <td>17850.0</td>\n",
       "      <td>United Kingdom</td>\n",
       "      <td>373</td>\n",
       "    </tr>\n",
       "    <tr>\n",
       "      <th>3</th>\n",
       "      <td>536365</td>\n",
       "      <td>84029G</td>\n",
       "      <td>KNITTED UNION FLAG HOT WATER BOTTLE</td>\n",
       "      <td>6</td>\n",
       "      <td>2010-12-01 08:26:00</td>\n",
       "      <td>3.39</td>\n",
       "      <td>17850.0</td>\n",
       "      <td>United Kingdom</td>\n",
       "      <td>373</td>\n",
       "    </tr>\n",
       "    <tr>\n",
       "      <th>4</th>\n",
       "      <td>536365</td>\n",
       "      <td>84029E</td>\n",
       "      <td>RED WOOLLY HOTTIE WHITE HEART.</td>\n",
       "      <td>6</td>\n",
       "      <td>2010-12-01 08:26:00</td>\n",
       "      <td>3.39</td>\n",
       "      <td>17850.0</td>\n",
       "      <td>United Kingdom</td>\n",
       "      <td>373</td>\n",
       "    </tr>\n",
       "    <tr>\n",
       "      <th>...</th>\n",
       "      <td>...</td>\n",
       "      <td>...</td>\n",
       "      <td>...</td>\n",
       "      <td>...</td>\n",
       "      <td>...</td>\n",
       "      <td>...</td>\n",
       "      <td>...</td>\n",
       "      <td>...</td>\n",
       "      <td>...</td>\n",
       "    </tr>\n",
       "    <tr>\n",
       "      <th>541904</th>\n",
       "      <td>581587</td>\n",
       "      <td>22613</td>\n",
       "      <td>PACK OF 20 SPACEBOY NAPKINS</td>\n",
       "      <td>12</td>\n",
       "      <td>2011-12-09 12:50:00</td>\n",
       "      <td>0.85</td>\n",
       "      <td>12680.0</td>\n",
       "      <td>France</td>\n",
       "      <td>0</td>\n",
       "    </tr>\n",
       "    <tr>\n",
       "      <th>541905</th>\n",
       "      <td>581587</td>\n",
       "      <td>22899</td>\n",
       "      <td>CHILDREN'S APRON DOLLY GIRL</td>\n",
       "      <td>6</td>\n",
       "      <td>2011-12-09 12:50:00</td>\n",
       "      <td>2.10</td>\n",
       "      <td>12680.0</td>\n",
       "      <td>France</td>\n",
       "      <td>0</td>\n",
       "    </tr>\n",
       "    <tr>\n",
       "      <th>541906</th>\n",
       "      <td>581587</td>\n",
       "      <td>23254</td>\n",
       "      <td>CHILDRENS CUTLERY DOLLY GIRL</td>\n",
       "      <td>4</td>\n",
       "      <td>2011-12-09 12:50:00</td>\n",
       "      <td>4.15</td>\n",
       "      <td>12680.0</td>\n",
       "      <td>France</td>\n",
       "      <td>0</td>\n",
       "    </tr>\n",
       "    <tr>\n",
       "      <th>541907</th>\n",
       "      <td>581587</td>\n",
       "      <td>23255</td>\n",
       "      <td>CHILDRENS CUTLERY CIRCUS PARADE</td>\n",
       "      <td>4</td>\n",
       "      <td>2011-12-09 12:50:00</td>\n",
       "      <td>4.15</td>\n",
       "      <td>12680.0</td>\n",
       "      <td>France</td>\n",
       "      <td>0</td>\n",
       "    </tr>\n",
       "    <tr>\n",
       "      <th>541908</th>\n",
       "      <td>581587</td>\n",
       "      <td>22138</td>\n",
       "      <td>BAKING SET 9 PIECE RETROSPOT</td>\n",
       "      <td>3</td>\n",
       "      <td>2011-12-09 12:50:00</td>\n",
       "      <td>4.95</td>\n",
       "      <td>12680.0</td>\n",
       "      <td>France</td>\n",
       "      <td>0</td>\n",
       "    </tr>\n",
       "  </tbody>\n",
       "</table>\n",
       "<p>406829 rows × 9 columns</p>\n",
       "</div>"
      ],
      "text/plain": [
       "       InvoiceNo StockCode                          Description  Quantity  \\\n",
       "0         536365    85123A   WHITE HANGING HEART T-LIGHT HOLDER         6   \n",
       "1         536365     71053                  WHITE METAL LANTERN         6   \n",
       "2         536365    84406B       CREAM CUPID HEARTS COAT HANGER         8   \n",
       "3         536365    84029G  KNITTED UNION FLAG HOT WATER BOTTLE         6   \n",
       "4         536365    84029E       RED WOOLLY HOTTIE WHITE HEART.         6   \n",
       "...          ...       ...                                  ...       ...   \n",
       "541904    581587     22613          PACK OF 20 SPACEBOY NAPKINS        12   \n",
       "541905    581587     22899         CHILDREN'S APRON DOLLY GIRL          6   \n",
       "541906    581587     23254        CHILDRENS CUTLERY DOLLY GIRL          4   \n",
       "541907    581587     23255      CHILDRENS CUTLERY CIRCUS PARADE         4   \n",
       "541908    581587     22138        BAKING SET 9 PIECE RETROSPOT          3   \n",
       "\n",
       "               InvoiceDate  UnitPrice  CustomerID         Country  Recency  \n",
       "0      2010-12-01 08:26:00       2.55     17850.0  United Kingdom      373  \n",
       "1      2010-12-01 08:26:00       3.39     17850.0  United Kingdom      373  \n",
       "2      2010-12-01 08:26:00       2.75     17850.0  United Kingdom      373  \n",
       "3      2010-12-01 08:26:00       3.39     17850.0  United Kingdom      373  \n",
       "4      2010-12-01 08:26:00       3.39     17850.0  United Kingdom      373  \n",
       "...                    ...        ...         ...             ...      ...  \n",
       "541904 2011-12-09 12:50:00       0.85     12680.0          France        0  \n",
       "541905 2011-12-09 12:50:00       2.10     12680.0          France        0  \n",
       "541906 2011-12-09 12:50:00       4.15     12680.0          France        0  \n",
       "541907 2011-12-09 12:50:00       4.15     12680.0          France        0  \n",
       "541908 2011-12-09 12:50:00       4.95     12680.0          France        0  \n",
       "\n",
       "[406829 rows x 9 columns]"
      ]
     },
     "execution_count": 6,
     "metadata": {},
     "output_type": "execute_result"
    }
   ],
   "source": [
    "#obtaining Recency\n",
    "\n",
    "lastDate= max(data['InvoiceDate'])\n",
    "data['Recency']= lastDate- data['InvoiceDate']\n",
    "data['Recency']= data['Recency'].dt.days\n",
    "data"
   ]
  },
  {
   "cell_type": "markdown",
   "id": "f13a57cd",
   "metadata": {},
   "source": [
    "The output thus obtained displays the last transaction of each product of every customer, inorder to obtain the recent transaction of a customer the recency should be obtained based on latest transaction of each customer i.e; the minimum value of recency for each customer should be obtained. For this the recency of customer which is grouped by customer Id is obtained and stored in a new dataframe."
   ]
  },
  {
   "cell_type": "code",
   "execution_count": 7,
   "id": "3ca528e5",
   "metadata": {},
   "outputs": [
    {
     "data": {
      "text/html": [
       "<div>\n",
       "<style scoped>\n",
       "    .dataframe tbody tr th:only-of-type {\n",
       "        vertical-align: middle;\n",
       "    }\n",
       "\n",
       "    .dataframe tbody tr th {\n",
       "        vertical-align: top;\n",
       "    }\n",
       "\n",
       "    .dataframe thead th {\n",
       "        text-align: right;\n",
       "    }\n",
       "</style>\n",
       "<table border=\"1\" class=\"dataframe\">\n",
       "  <thead>\n",
       "    <tr style=\"text-align: right;\">\n",
       "      <th></th>\n",
       "      <th>CustomerID</th>\n",
       "      <th>Recency</th>\n",
       "    </tr>\n",
       "  </thead>\n",
       "  <tbody>\n",
       "    <tr>\n",
       "      <th>0</th>\n",
       "      <td>12346.0</td>\n",
       "      <td>325</td>\n",
       "    </tr>\n",
       "    <tr>\n",
       "      <th>1</th>\n",
       "      <td>12347.0</td>\n",
       "      <td>1</td>\n",
       "    </tr>\n",
       "    <tr>\n",
       "      <th>2</th>\n",
       "      <td>12348.0</td>\n",
       "      <td>74</td>\n",
       "    </tr>\n",
       "    <tr>\n",
       "      <th>3</th>\n",
       "      <td>12349.0</td>\n",
       "      <td>18</td>\n",
       "    </tr>\n",
       "    <tr>\n",
       "      <th>4</th>\n",
       "      <td>12350.0</td>\n",
       "      <td>309</td>\n",
       "    </tr>\n",
       "    <tr>\n",
       "      <th>...</th>\n",
       "      <td>...</td>\n",
       "      <td>...</td>\n",
       "    </tr>\n",
       "    <tr>\n",
       "      <th>4367</th>\n",
       "      <td>18280.0</td>\n",
       "      <td>277</td>\n",
       "    </tr>\n",
       "    <tr>\n",
       "      <th>4368</th>\n",
       "      <td>18281.0</td>\n",
       "      <td>180</td>\n",
       "    </tr>\n",
       "    <tr>\n",
       "      <th>4369</th>\n",
       "      <td>18282.0</td>\n",
       "      <td>7</td>\n",
       "    </tr>\n",
       "    <tr>\n",
       "      <th>4370</th>\n",
       "      <td>18283.0</td>\n",
       "      <td>3</td>\n",
       "    </tr>\n",
       "    <tr>\n",
       "      <th>4371</th>\n",
       "      <td>18287.0</td>\n",
       "      <td>42</td>\n",
       "    </tr>\n",
       "  </tbody>\n",
       "</table>\n",
       "<p>4372 rows × 2 columns</p>\n",
       "</div>"
      ],
      "text/plain": [
       "      CustomerID  Recency\n",
       "0        12346.0      325\n",
       "1        12347.0        1\n",
       "2        12348.0       74\n",
       "3        12349.0       18\n",
       "4        12350.0      309\n",
       "...          ...      ...\n",
       "4367     18280.0      277\n",
       "4368     18281.0      180\n",
       "4369     18282.0        7\n",
       "4370     18283.0        3\n",
       "4371     18287.0       42\n",
       "\n",
       "[4372 rows x 2 columns]"
      ]
     },
     "execution_count": 7,
     "metadata": {},
     "output_type": "execute_result"
    }
   ],
   "source": [
    "#creating new dataframe for RFM analysis\n",
    "\n",
    "RFM= data.groupby('CustomerID')['Recency'].min()\n",
    "RFM= RFM.reset_index()\n",
    "RFM"
   ]
  },
  {
   "cell_type": "markdown",
   "id": "19cf286e",
   "metadata": {},
   "source": [
    "<u>FREQUENCY</u>\n",
    "\n",
    "After the Recency the next factor to be identified is the Frequency. This factor is identified inorder to understand how frequently a customer has purchased products from the company. Frequency is identified by counting the number of invoices present against each customerID, so the key parameters in identifying frequency are CustomerID and InvoiceNo. As per business knowledge it is agreeable that the number of unique values of customerID will be less than the number of unique values of InvoiceNo so the Frequency factor is calculated and stored under a new dataframe."
   ]
  },
  {
   "cell_type": "code",
   "execution_count": 8,
   "id": "05b10bb2",
   "metadata": {},
   "outputs": [
    {
     "data": {
      "text/html": [
       "<div>\n",
       "<style scoped>\n",
       "    .dataframe tbody tr th:only-of-type {\n",
       "        vertical-align: middle;\n",
       "    }\n",
       "\n",
       "    .dataframe tbody tr th {\n",
       "        vertical-align: top;\n",
       "    }\n",
       "\n",
       "    .dataframe thead th {\n",
       "        text-align: right;\n",
       "    }\n",
       "</style>\n",
       "<table border=\"1\" class=\"dataframe\">\n",
       "  <thead>\n",
       "    <tr style=\"text-align: right;\">\n",
       "      <th></th>\n",
       "      <th>CustomerID</th>\n",
       "      <th>Frequency</th>\n",
       "    </tr>\n",
       "  </thead>\n",
       "  <tbody>\n",
       "    <tr>\n",
       "      <th>0</th>\n",
       "      <td>12346.0</td>\n",
       "      <td>2</td>\n",
       "    </tr>\n",
       "    <tr>\n",
       "      <th>1</th>\n",
       "      <td>12347.0</td>\n",
       "      <td>182</td>\n",
       "    </tr>\n",
       "    <tr>\n",
       "      <th>2</th>\n",
       "      <td>12348.0</td>\n",
       "      <td>31</td>\n",
       "    </tr>\n",
       "    <tr>\n",
       "      <th>3</th>\n",
       "      <td>12349.0</td>\n",
       "      <td>73</td>\n",
       "    </tr>\n",
       "    <tr>\n",
       "      <th>4</th>\n",
       "      <td>12350.0</td>\n",
       "      <td>17</td>\n",
       "    </tr>\n",
       "    <tr>\n",
       "      <th>...</th>\n",
       "      <td>...</td>\n",
       "      <td>...</td>\n",
       "    </tr>\n",
       "    <tr>\n",
       "      <th>4367</th>\n",
       "      <td>18280.0</td>\n",
       "      <td>10</td>\n",
       "    </tr>\n",
       "    <tr>\n",
       "      <th>4368</th>\n",
       "      <td>18281.0</td>\n",
       "      <td>7</td>\n",
       "    </tr>\n",
       "    <tr>\n",
       "      <th>4369</th>\n",
       "      <td>18282.0</td>\n",
       "      <td>13</td>\n",
       "    </tr>\n",
       "    <tr>\n",
       "      <th>4370</th>\n",
       "      <td>18283.0</td>\n",
       "      <td>756</td>\n",
       "    </tr>\n",
       "    <tr>\n",
       "      <th>4371</th>\n",
       "      <td>18287.0</td>\n",
       "      <td>70</td>\n",
       "    </tr>\n",
       "  </tbody>\n",
       "</table>\n",
       "<p>4372 rows × 2 columns</p>\n",
       "</div>"
      ],
      "text/plain": [
       "      CustomerID  Frequency\n",
       "0        12346.0          2\n",
       "1        12347.0        182\n",
       "2        12348.0         31\n",
       "3        12349.0         73\n",
       "4        12350.0         17\n",
       "...          ...        ...\n",
       "4367     18280.0         10\n",
       "4368     18281.0          7\n",
       "4369     18282.0         13\n",
       "4370     18283.0        756\n",
       "4371     18287.0         70\n",
       "\n",
       "[4372 rows x 2 columns]"
      ]
     },
     "execution_count": 8,
     "metadata": {},
     "output_type": "execute_result"
    }
   ],
   "source": [
    "#obtaining frequency\n",
    "\n",
    "Frequency= data.groupby('CustomerID')['InvoiceNo'].count()\n",
    "Frequency= Frequency.reset_index()\n",
    "Frequency.columns=['CustomerID','Frequency']\n",
    "Frequency"
   ]
  },
  {
   "cell_type": "markdown",
   "id": "27e3e74b",
   "metadata": {},
   "source": [
    "<u>MONETARY</u>\n",
    "\n",
    "The next step of analysis is identifying the Monetary factor which gives information about how much amount a customer has spent on products purchased from the company. Inorder to obtain the monetary value of each customer first the quantity and price of each invoice should be multiplied and then the total sum of amount is to be calculated for each unique customer ID."
   ]
  },
  {
   "cell_type": "code",
   "execution_count": 9,
   "id": "c9844114",
   "metadata": {},
   "outputs": [
    {
     "data": {
      "text/html": [
       "<div>\n",
       "<style scoped>\n",
       "    .dataframe tbody tr th:only-of-type {\n",
       "        vertical-align: middle;\n",
       "    }\n",
       "\n",
       "    .dataframe tbody tr th {\n",
       "        vertical-align: top;\n",
       "    }\n",
       "\n",
       "    .dataframe thead th {\n",
       "        text-align: right;\n",
       "    }\n",
       "</style>\n",
       "<table border=\"1\" class=\"dataframe\">\n",
       "  <thead>\n",
       "    <tr style=\"text-align: right;\">\n",
       "      <th></th>\n",
       "      <th>CustomerID</th>\n",
       "      <th>Monetary</th>\n",
       "    </tr>\n",
       "  </thead>\n",
       "  <tbody>\n",
       "    <tr>\n",
       "      <th>0</th>\n",
       "      <td>12346.0</td>\n",
       "      <td>0.00</td>\n",
       "    </tr>\n",
       "    <tr>\n",
       "      <th>1</th>\n",
       "      <td>12347.0</td>\n",
       "      <td>4310.00</td>\n",
       "    </tr>\n",
       "    <tr>\n",
       "      <th>2</th>\n",
       "      <td>12348.0</td>\n",
       "      <td>1797.24</td>\n",
       "    </tr>\n",
       "    <tr>\n",
       "      <th>3</th>\n",
       "      <td>12349.0</td>\n",
       "      <td>1757.55</td>\n",
       "    </tr>\n",
       "    <tr>\n",
       "      <th>4</th>\n",
       "      <td>12350.0</td>\n",
       "      <td>334.40</td>\n",
       "    </tr>\n",
       "    <tr>\n",
       "      <th>...</th>\n",
       "      <td>...</td>\n",
       "      <td>...</td>\n",
       "    </tr>\n",
       "    <tr>\n",
       "      <th>4367</th>\n",
       "      <td>18280.0</td>\n",
       "      <td>180.60</td>\n",
       "    </tr>\n",
       "    <tr>\n",
       "      <th>4368</th>\n",
       "      <td>18281.0</td>\n",
       "      <td>80.82</td>\n",
       "    </tr>\n",
       "    <tr>\n",
       "      <th>4369</th>\n",
       "      <td>18282.0</td>\n",
       "      <td>176.60</td>\n",
       "    </tr>\n",
       "    <tr>\n",
       "      <th>4370</th>\n",
       "      <td>18283.0</td>\n",
       "      <td>2094.88</td>\n",
       "    </tr>\n",
       "    <tr>\n",
       "      <th>4371</th>\n",
       "      <td>18287.0</td>\n",
       "      <td>1837.28</td>\n",
       "    </tr>\n",
       "  </tbody>\n",
       "</table>\n",
       "<p>4372 rows × 2 columns</p>\n",
       "</div>"
      ],
      "text/plain": [
       "      CustomerID  Monetary\n",
       "0        12346.0      0.00\n",
       "1        12347.0   4310.00\n",
       "2        12348.0   1797.24\n",
       "3        12349.0   1757.55\n",
       "4        12350.0    334.40\n",
       "...          ...       ...\n",
       "4367     18280.0    180.60\n",
       "4368     18281.0     80.82\n",
       "4369     18282.0    176.60\n",
       "4370     18283.0   2094.88\n",
       "4371     18287.0   1837.28\n",
       "\n",
       "[4372 rows x 2 columns]"
      ]
     },
     "execution_count": 9,
     "metadata": {},
     "output_type": "execute_result"
    }
   ],
   "source": [
    "#obtaining Monetary\n",
    "\n",
    "data['Monetary']= data['Quantity']*data['UnitPrice']\n",
    "Monetary= data.groupby('CustomerID')['Monetary'].sum()\n",
    "Monetary= Monetary.reset_index()\n",
    "Monetary.columns=['CustomerID','Monetary']\n",
    "Monetary"
   ]
  },
  {
   "cell_type": "markdown",
   "id": "2cbe1ba3",
   "metadata": {},
   "source": [
    "Now all the three factors of RFM analysis are obtained, these three factors are combined into a new dataframe on which the k-means clustering algorithm is applied for segmentation."
   ]
  },
  {
   "cell_type": "code",
   "execution_count": 10,
   "id": "13f16ba6",
   "metadata": {},
   "outputs": [
    {
     "data": {
      "text/html": [
       "<div>\n",
       "<style scoped>\n",
       "    .dataframe tbody tr th:only-of-type {\n",
       "        vertical-align: middle;\n",
       "    }\n",
       "\n",
       "    .dataframe tbody tr th {\n",
       "        vertical-align: top;\n",
       "    }\n",
       "\n",
       "    .dataframe thead th {\n",
       "        text-align: right;\n",
       "    }\n",
       "</style>\n",
       "<table border=\"1\" class=\"dataframe\">\n",
       "  <thead>\n",
       "    <tr style=\"text-align: right;\">\n",
       "      <th></th>\n",
       "      <th>CustomerID</th>\n",
       "      <th>Recency</th>\n",
       "      <th>Frequency</th>\n",
       "      <th>Monetary</th>\n",
       "    </tr>\n",
       "  </thead>\n",
       "  <tbody>\n",
       "    <tr>\n",
       "      <th>0</th>\n",
       "      <td>12346.0</td>\n",
       "      <td>325</td>\n",
       "      <td>2</td>\n",
       "      <td>0.00</td>\n",
       "    </tr>\n",
       "    <tr>\n",
       "      <th>1</th>\n",
       "      <td>12347.0</td>\n",
       "      <td>1</td>\n",
       "      <td>182</td>\n",
       "      <td>4310.00</td>\n",
       "    </tr>\n",
       "    <tr>\n",
       "      <th>2</th>\n",
       "      <td>12348.0</td>\n",
       "      <td>74</td>\n",
       "      <td>31</td>\n",
       "      <td>1797.24</td>\n",
       "    </tr>\n",
       "    <tr>\n",
       "      <th>3</th>\n",
       "      <td>12349.0</td>\n",
       "      <td>18</td>\n",
       "      <td>73</td>\n",
       "      <td>1757.55</td>\n",
       "    </tr>\n",
       "    <tr>\n",
       "      <th>4</th>\n",
       "      <td>12350.0</td>\n",
       "      <td>309</td>\n",
       "      <td>17</td>\n",
       "      <td>334.40</td>\n",
       "    </tr>\n",
       "    <tr>\n",
       "      <th>...</th>\n",
       "      <td>...</td>\n",
       "      <td>...</td>\n",
       "      <td>...</td>\n",
       "      <td>...</td>\n",
       "    </tr>\n",
       "    <tr>\n",
       "      <th>4367</th>\n",
       "      <td>18280.0</td>\n",
       "      <td>277</td>\n",
       "      <td>10</td>\n",
       "      <td>180.60</td>\n",
       "    </tr>\n",
       "    <tr>\n",
       "      <th>4368</th>\n",
       "      <td>18281.0</td>\n",
       "      <td>180</td>\n",
       "      <td>7</td>\n",
       "      <td>80.82</td>\n",
       "    </tr>\n",
       "    <tr>\n",
       "      <th>4369</th>\n",
       "      <td>18282.0</td>\n",
       "      <td>7</td>\n",
       "      <td>13</td>\n",
       "      <td>176.60</td>\n",
       "    </tr>\n",
       "    <tr>\n",
       "      <th>4370</th>\n",
       "      <td>18283.0</td>\n",
       "      <td>3</td>\n",
       "      <td>756</td>\n",
       "      <td>2094.88</td>\n",
       "    </tr>\n",
       "    <tr>\n",
       "      <th>4371</th>\n",
       "      <td>18287.0</td>\n",
       "      <td>42</td>\n",
       "      <td>70</td>\n",
       "      <td>1837.28</td>\n",
       "    </tr>\n",
       "  </tbody>\n",
       "</table>\n",
       "<p>4372 rows × 4 columns</p>\n",
       "</div>"
      ],
      "text/plain": [
       "      CustomerID  Recency  Frequency  Monetary\n",
       "0        12346.0      325          2      0.00\n",
       "1        12347.0        1        182   4310.00\n",
       "2        12348.0       74         31   1797.24\n",
       "3        12349.0       18         73   1757.55\n",
       "4        12350.0      309         17    334.40\n",
       "...          ...      ...        ...       ...\n",
       "4367     18280.0      277         10    180.60\n",
       "4368     18281.0      180          7     80.82\n",
       "4369     18282.0        7         13    176.60\n",
       "4370     18283.0        3        756   2094.88\n",
       "4371     18287.0       42         70   1837.28\n",
       "\n",
       "[4372 rows x 4 columns]"
      ]
     },
     "execution_count": 10,
     "metadata": {},
     "output_type": "execute_result"
    }
   ],
   "source": [
    "#creating new dataframe RFM\n",
    "\n",
    "RFM=pd.merge(RFM, Frequency, how='inner', on='CustomerID')\n",
    "RFM=pd.merge(RFM, Monetary, how='inner', on='CustomerID')\n",
    "RFM"
   ]
  },
  {
   "cell_type": "code",
   "execution_count": 11,
   "id": "ebde7a8e",
   "metadata": {},
   "outputs": [
    {
     "data": {
      "text/plain": [
       "(4372, 4)"
      ]
     },
     "execution_count": 11,
     "metadata": {},
     "output_type": "execute_result"
    }
   ],
   "source": [
    "#obtaining structure of RFM dataframe\n",
    "\n",
    "RFM.shape"
   ]
  },
  {
   "cell_type": "markdown",
   "id": "531d5557",
   "metadata": {},
   "source": [
    "The recency, frequency and monetary values required for RFM segmentation are  thus obtained. These values are combined into a new dataframe with 4 columns named CustomerID, Recency, Frequency and Monetary and has 4372 rows. The next step is to identify if there are any possible outliers present in the obtained dataset. For this, the descriptive statistics of the new dataset is to be obtained. "
   ]
  },
  {
   "cell_type": "code",
   "execution_count": 12,
   "id": "6445be4c",
   "metadata": {},
   "outputs": [
    {
     "data": {
      "text/html": [
       "<div>\n",
       "<style scoped>\n",
       "    .dataframe tbody tr th:only-of-type {\n",
       "        vertical-align: middle;\n",
       "    }\n",
       "\n",
       "    .dataframe tbody tr th {\n",
       "        vertical-align: top;\n",
       "    }\n",
       "\n",
       "    .dataframe thead th {\n",
       "        text-align: right;\n",
       "    }\n",
       "</style>\n",
       "<table border=\"1\" class=\"dataframe\">\n",
       "  <thead>\n",
       "    <tr style=\"text-align: right;\">\n",
       "      <th></th>\n",
       "      <th>CustomerID</th>\n",
       "      <th>Recency</th>\n",
       "      <th>Frequency</th>\n",
       "      <th>Monetary</th>\n",
       "    </tr>\n",
       "  </thead>\n",
       "  <tbody>\n",
       "    <tr>\n",
       "      <th>count</th>\n",
       "      <td>4372.000000</td>\n",
       "      <td>4372.000000</td>\n",
       "      <td>4372.000000</td>\n",
       "      <td>4372.000000</td>\n",
       "    </tr>\n",
       "    <tr>\n",
       "      <th>mean</th>\n",
       "      <td>15299.677722</td>\n",
       "      <td>91.047118</td>\n",
       "      <td>93.053294</td>\n",
       "      <td>1898.459701</td>\n",
       "    </tr>\n",
       "    <tr>\n",
       "      <th>std</th>\n",
       "      <td>1722.390705</td>\n",
       "      <td>100.765435</td>\n",
       "      <td>232.471608</td>\n",
       "      <td>8219.345141</td>\n",
       "    </tr>\n",
       "    <tr>\n",
       "      <th>min</th>\n",
       "      <td>12346.000000</td>\n",
       "      <td>0.000000</td>\n",
       "      <td>1.000000</td>\n",
       "      <td>-4287.630000</td>\n",
       "    </tr>\n",
       "    <tr>\n",
       "      <th>25%</th>\n",
       "      <td>13812.750000</td>\n",
       "      <td>16.000000</td>\n",
       "      <td>17.000000</td>\n",
       "      <td>293.362500</td>\n",
       "    </tr>\n",
       "    <tr>\n",
       "      <th>50%</th>\n",
       "      <td>15300.500000</td>\n",
       "      <td>49.000000</td>\n",
       "      <td>42.000000</td>\n",
       "      <td>648.075000</td>\n",
       "    </tr>\n",
       "    <tr>\n",
       "      <th>75%</th>\n",
       "      <td>16778.250000</td>\n",
       "      <td>142.000000</td>\n",
       "      <td>102.000000</td>\n",
       "      <td>1611.725000</td>\n",
       "    </tr>\n",
       "    <tr>\n",
       "      <th>max</th>\n",
       "      <td>18287.000000</td>\n",
       "      <td>373.000000</td>\n",
       "      <td>7983.000000</td>\n",
       "      <td>279489.020000</td>\n",
       "    </tr>\n",
       "  </tbody>\n",
       "</table>\n",
       "</div>"
      ],
      "text/plain": [
       "         CustomerID      Recency    Frequency       Monetary\n",
       "count   4372.000000  4372.000000  4372.000000    4372.000000\n",
       "mean   15299.677722    91.047118    93.053294    1898.459701\n",
       "std     1722.390705   100.765435   232.471608    8219.345141\n",
       "min    12346.000000     0.000000     1.000000   -4287.630000\n",
       "25%    13812.750000    16.000000    17.000000     293.362500\n",
       "50%    15300.500000    49.000000    42.000000     648.075000\n",
       "75%    16778.250000   142.000000   102.000000    1611.725000\n",
       "max    18287.000000   373.000000  7983.000000  279489.020000"
      ]
     },
     "execution_count": 12,
     "metadata": {},
     "output_type": "execute_result"
    }
   ],
   "source": [
    "#descriptive statistics of RFM \n",
    "\n",
    "RFM.describe()"
   ]
  },
  {
   "cell_type": "markdown",
   "id": "7ecab1b6",
   "metadata": {},
   "source": [
    "From the descriptive statistics, it can be concluded that there are possible outliers in the dataset by using the mean and max values. The mean value is so small compared to the max value of Frequency and Monetary indicates that the max value is possibly an outlier. The difference between max and mean value of Recency is less as compared, hence assuming that there are no outliers in Recency. \n",
    "\n",
    "To understand the existence of outliers more clearly a boxplot can be plotted for all the three variables Recency, Frequency and Monetary."
   ]
  },
  {
   "cell_type": "code",
   "execution_count": 13,
   "id": "9251e99d",
   "metadata": {},
   "outputs": [
    {
     "data": {
      "text/plain": [
       "Text(0.5, 0, 'Variables')"
      ]
     },
     "execution_count": 13,
     "metadata": {},
     "output_type": "execute_result"
    },
    {
     "data": {
      "image/png": "[encoded data removed]",
      "text/plain": [
       "<Figure size 720x720 with 1 Axes>"
      ]
     },
     "metadata": {
      "needs_background": "light"
     },
     "output_type": "display_data"
    }
   ],
   "source": [
    "#plotting of outliers\n",
    "\n",
    "params=['Recency','Frequency','Monetary']\n",
    "plt.figure(figsize=(10,10))\n",
    "sb.boxplot(data= RFM[params])\n",
    "plt.title(\"Distribution of Outliers\")\n",
    "plt.ylabel(\"Distribution\")\n",
    "plt.xlabel(\"Variables\")\n"
   ]
  },
  {
   "cell_type": "markdown",
   "id": "81496ddb",
   "metadata": {},
   "source": [
    "From the above boxplot it ca be observed that there are outliers present in the dataset.\n",
    "\n",
    "The existence of outliers in a dataset can possibly impact the outputs, therefore an imputation technique is used to replace the outliers with mean value.\n"
   ]
  },
  {
   "cell_type": "code",
   "execution_count": 14,
   "id": "17f04a10",
   "metadata": {},
   "outputs": [
    {
     "data": {
      "text/html": [
       "<div>\n",
       "<style scoped>\n",
       "    .dataframe tbody tr th:only-of-type {\n",
       "        vertical-align: middle;\n",
       "    }\n",
       "\n",
       "    .dataframe tbody tr th {\n",
       "        vertical-align: top;\n",
       "    }\n",
       "\n",
       "    .dataframe thead th {\n",
       "        text-align: right;\n",
       "    }\n",
       "</style>\n",
       "<table border=\"1\" class=\"dataframe\">\n",
       "  <thead>\n",
       "    <tr style=\"text-align: right;\">\n",
       "      <th></th>\n",
       "      <th>CustomerID</th>\n",
       "      <th>Recency</th>\n",
       "      <th>Frequency</th>\n",
       "      <th>Monetary</th>\n",
       "    </tr>\n",
       "  </thead>\n",
       "  <tbody>\n",
       "    <tr>\n",
       "      <th>count</th>\n",
       "      <td>4372.000000</td>\n",
       "      <td>4372.000000</td>\n",
       "      <td>4372.000000</td>\n",
       "      <td>4372.000000</td>\n",
       "    </tr>\n",
       "    <tr>\n",
       "      <th>mean</th>\n",
       "      <td>15299.677722</td>\n",
       "      <td>91.047118</td>\n",
       "      <td>58.248228</td>\n",
       "      <td>956.081740</td>\n",
       "    </tr>\n",
       "    <tr>\n",
       "      <th>std</th>\n",
       "      <td>1722.390705</td>\n",
       "      <td>100.765435</td>\n",
       "      <td>51.200523</td>\n",
       "      <td>832.788014</td>\n",
       "    </tr>\n",
       "    <tr>\n",
       "      <th>min</th>\n",
       "      <td>12346.000000</td>\n",
       "      <td>0.000000</td>\n",
       "      <td>1.000000</td>\n",
       "      <td>-1592.490000</td>\n",
       "    </tr>\n",
       "    <tr>\n",
       "      <th>25%</th>\n",
       "      <td>13812.750000</td>\n",
       "      <td>16.000000</td>\n",
       "      <td>17.000000</td>\n",
       "      <td>293.952500</td>\n",
       "    </tr>\n",
       "    <tr>\n",
       "      <th>50%</th>\n",
       "      <td>15300.500000</td>\n",
       "      <td>49.000000</td>\n",
       "      <td>42.000000</td>\n",
       "      <td>648.550000</td>\n",
       "    </tr>\n",
       "    <tr>\n",
       "      <th>75%</th>\n",
       "      <td>16778.250000</td>\n",
       "      <td>142.000000</td>\n",
       "      <td>93.053294</td>\n",
       "      <td>1612.295000</td>\n",
       "    </tr>\n",
       "    <tr>\n",
       "      <th>max</th>\n",
       "      <td>18287.000000</td>\n",
       "      <td>373.000000</td>\n",
       "      <td>229.000000</td>\n",
       "      <td>3580.130000</td>\n",
       "    </tr>\n",
       "  </tbody>\n",
       "</table>\n",
       "</div>"
      ],
      "text/plain": [
       "         CustomerID      Recency    Frequency     Monetary\n",
       "count   4372.000000  4372.000000  4372.000000  4372.000000\n",
       "mean   15299.677722    91.047118    58.248228   956.081740\n",
       "std     1722.390705   100.765435    51.200523   832.788014\n",
       "min    12346.000000     0.000000     1.000000 -1592.490000\n",
       "25%    13812.750000    16.000000    17.000000   293.952500\n",
       "50%    15300.500000    49.000000    42.000000   648.550000\n",
       "75%    16778.250000   142.000000    93.053294  1612.295000\n",
       "max    18287.000000   373.000000   229.000000  3580.130000"
      ]
     },
     "execution_count": 14,
     "metadata": {},
     "output_type": "execute_result"
    }
   ],
   "source": [
    "#imputating outliers present in Monetary and Frequency\n",
    "\n",
    "def imputing_Monetary(RFM):\n",
    "    Q1= RFM['Monetary'].quantile(0.25)\n",
    "    Q3= RFM['Monetary'].quantile(0.75)\n",
    "    IQR= Q3-Q1\n",
    "    upper= RFM['Monetary'][~(RFM['Monetary']>(Q3+1.5*IQR))].max()\n",
    "    lower= RFM['Monetary'][~(RFM['Monetary']<(Q1-1.5*IQR))].min()\n",
    "    RFM['Monetary']=np.where(RFM['Monetary']>upper, RFM['Monetary'].mean(),np.where(RFM['Monetary']<lower, RFM['Monetary'].mean(), RFM['Monetary']))\n",
    "    return RFM['Monetary']\n",
    "RFM['Monetary']= imputing_Monetary(RFM)\n",
    "\n",
    "def imputing_Frequency(RFM):\n",
    "    Q1= RFM['Frequency'].quantile(0.25)\n",
    "    Q3= RFM['Frequency'].quantile(0.75)\n",
    "    IQR= Q3-Q1\n",
    "    upper= RFM['Frequency'][~(RFM['Frequency']>(Q3+1.5*IQR))].max()\n",
    "    lower= RFM['Frequency'][~(RFM['Frequency']<(Q1-1.5*IQR))].min()\n",
    "    RFM['Frequency']=np.where(RFM['Frequency']>upper, RFM['Frequency'].mean(),np.where(RFM['Frequency']<lower, RFM['Frequency'].mean(), RFM['Frequency']))\n",
    "    return RFM['Frequency']\n",
    "RFM['Frequency']= imputing_Frequency(RFM)\n",
    "\n",
    "RFM.describe()"
   ]
  },
  {
   "cell_type": "markdown",
   "id": "d0787e4d",
   "metadata": {},
   "source": [
    "Inorder to check whether the outliers are handled by imputations or not, a boxplot for all the three variables is plotted again."
   ]
  },
  {
   "cell_type": "code",
   "execution_count": 15,
   "id": "58b9514d",
   "metadata": {},
   "outputs": [
    {
     "data": {
      "text/plain": [
       "Text(0.5, 0, 'Variables')"
      ]
     },
     "execution_count": 15,
     "metadata": {},
     "output_type": "execute_result"
    },
    {
     "data": {
      "image/png": "[encoded data removed]",
      "text/plain": [
       "<Figure size 720x720 with 1 Axes>"
      ]
     },
     "metadata": {
      "needs_background": "light"
     },
     "output_type": "display_data"
    }
   ],
   "source": [
    "#plotting of outliers after imputations\n",
    "\n",
    "params=['Recency','Frequency','Monetary']\n",
    "plt.figure(figsize=(10,10))\n",
    "sb.boxplot(data= RFM[params], palette=\"Set1\")\n",
    "plt.title(\"Distribution of Outliers after imputations\")\n",
    "plt.ylabel(\"Distribution\")\n",
    "plt.xlabel(\"Variables\")"
   ]
  },
  {
   "cell_type": "markdown",
   "id": "a3717a66",
   "metadata": {},
   "source": [
    "From the plot \"Distribution of outliers after imputations\" it can be observed that there are no outliers."
   ]
  },
  {
   "cell_type": "markdown",
   "id": "536d3517",
   "metadata": {},
   "source": [
    "<u> K-MEANS CLUSTERING ALGORITHM </u>"
   ]
  },
  {
   "cell_type": "markdown",
   "id": "e6aa1285",
   "metadata": {},
   "source": [
    "After imputing the outliers the next step is to build the model. The desirable model should help in identifying the customers in different groups which helps in analyzing the business. For this the customers should initially be formed into groups based on the similarity factor among them. These groups are formed by using k-means clustering algorithm. \n",
    "\n",
    "By using k-means clustering, the customers are divided into different clusters depending on the similarity between the customer and the respective cluster. All the customers of a particualr cluster have similar factors. The number of clusters to be used in the model is decided by the elbow curve and silhouette coefficient.\n",
    "\n",
    "The dataset from which the model is being build is an unsupervised dataset and needs the customers to be segmented into groups, hence k-means clustering algorithm is used for building the model. \n",
    "\n",
    "To start with k-means clustering, a random value of clusters is to be considered. In this case the initial number of clusters is considered as 5. \n"
   ]
  },
  {
   "cell_type": "code",
   "execution_count": 16,
   "id": "f209cbf7",
   "metadata": {},
   "outputs": [
    {
     "data": {
      "text/plain": [
       "array([4, 1, 1, ..., 2, 3, 3])"
      ]
     },
     "execution_count": 16,
     "metadata": {},
     "output_type": "execute_result"
    }
   ],
   "source": [
    "#kmeans\n",
    "kmeans=KMeans(n_clusters=5, random_state=2)\n",
    "obtained_clusters=kmeans.fit_predict(RFM)\n",
    "obtained_clusters"
   ]
  },
  {
   "cell_type": "markdown",
   "id": "bb51b953",
   "metadata": {},
   "source": [
    "The next step is to identify the optimal number of clusters k, for this the elbow method is used. In elbow method the avearge dispersion of data is plotted against the k- values. The point at which the average dispersion decreases the most is considered to be the optimal number of clusters k."
   ]
  },
  {
   "cell_type": "code",
   "execution_count": 17,
   "id": "2adff364",
   "metadata": {},
   "outputs": [
    {
     "data": {
      "image/png": "[encoded data removed]",
      "text/plain": [
       "<Figure size 576x720 with 1 Axes>"
      ]
     },
     "metadata": {
      "needs_background": "light"
     },
     "output_type": "display_data"
    }
   ],
   "source": [
    "#elbow method plotting\n",
    "\n",
    "avg_dispersions=[]\n",
    "clusters_range= [2,3,4,5,6,7,8,9,10]\n",
    "for cluster in clusters_range:\n",
    "    kmean= KMeans(n_clusters=cluster, random_state=10)\n",
    "    kmean.fit_predict(RFM)\n",
    "    avg_dispersions.append(kmean.inertia_)\n",
    "\n",
    "plt.figure(figsize=(8,10))\n",
    "plt.plot(clusters_range, avg_dispersions)\n",
    "plt.xlabel(\"K\")\n",
    "plt.ylabel(\"Average Dispersions\")\n",
    "plt.title(\"Elbow Method\")\n",
    "plt.show()"
   ]
  },
  {
   "cell_type": "markdown",
   "id": "d5885f52",
   "metadata": {},
   "source": [
    "From the elbow method plot it is observed that the average dispersion has shown a slight decrease at k=3,5,7 but there is no steep decrease of average dispersion at any value of k. For this reason another method Silhouette Coefficient is used to obtain the optimal number of clusters.\n",
    "\n",
    "Silhouette Coefficient is a clustering evaluation metric, in which if the group of clusters are well separated and compact then the value of Silhoutte coefficient would be high and that value of k indicates the optimal number of clusters to be considered."
   ]
  },
  {
   "cell_type": "code",
   "execution_count": 18,
   "id": "fad2ea6e",
   "metadata": {},
   "outputs": [],
   "source": [
    "#silhouette coefficient\n",
    "\n",
    "clusters_range= [2,3,4,5,6,7,8,9,10]\n",
    "\n",
    "def optimal_clusters(k,data):\n",
    "    # intialise kmeans\n",
    "    kmeans = KMeans(n_clusters=k, random_state=10)\n",
    "    clusters=kmeans.fit_predict(RFM)  \n",
    "    silhouette_coeff = silhouette_score(RFM, clusters)\n",
    "    return silhouette_coeff\n",
    "\n",
    "coeff_k= [optimal_clusters(k,RFM) for k in clusters_range]\n"
   ]
  },
  {
   "cell_type": "code",
   "execution_count": 19,
   "id": "4cef3f74",
   "metadata": {},
   "outputs": [
    {
     "data": {
      "image/png": "[encoded data removed]",
      "text/plain": [
       "<Figure size 576x576 with 1 Axes>"
      ]
     },
     "metadata": {
      "needs_background": "light"
     },
     "output_type": "display_data"
    }
   ],
   "source": [
    "#silhouette coefficinet plotting\n",
    "\n",
    "fig = plt.figure(figsize=(8,8))\n",
    "ax = plt.axes()\n",
    "ax.plot(clusters_range, coeff_k)\n",
    "plt.title(\"Silhouette Coefficient for each k\")\n",
    "plt.xlabel('K')\n",
    "plt.ylabel('Silhouette Coefficient')\n",
    "plt.show()"
   ]
  },
  {
   "cell_type": "markdown",
   "id": "46867698",
   "metadata": {},
   "source": [
    "From the Silhouette Coefficient plot it is observed that the Silhouette coefficient is at it's peak at k=2 but since for clustering the minimum number of clusters required is 2, let us not consider this as k=2 is the minimal value. The next value of k at which the silhouette coefficient is more is at k=6. \n",
    "\n",
    "Hence the optimal number of clusters choosen is k=6."
   ]
  },
  {
   "cell_type": "markdown",
   "id": "ee4d2bf6",
   "metadata": {},
   "source": [
    "<u>**RESULTS**</u>\n",
    "\n",
    "Thus the final model is built with k=6 based on the Silhouette Coefficient plot.\n"
   ]
  },
  {
   "cell_type": "code",
   "execution_count": 20,
   "id": "f197b222",
   "metadata": {},
   "outputs": [
    {
     "data": {
      "text/plain": [
       "KMeans(n_clusters=6, random_state=50)"
      ]
     },
     "execution_count": 20,
     "metadata": {},
     "output_type": "execute_result"
    }
   ],
   "source": [
    "#kmeans with k=6\n",
    "\n",
    "kmeans= KMeans(n_clusters=6, random_state=50)\n",
    "final_clusters= kmeans.fit(RFM)\n",
    "final_clusters"
   ]
  },
  {
   "cell_type": "markdown",
   "id": "6a52bb6d",
   "metadata": {},
   "source": [
    "The next step is to assign the obtained clusters to the customers inorder to identify which customer is present under which cluster."
   ]
  },
  {
   "cell_type": "code",
   "execution_count": 21,
   "id": "014297f6",
   "metadata": {},
   "outputs": [
    {
     "data": {
      "text/html": [
       "<div>\n",
       "<style scoped>\n",
       "    .dataframe tbody tr th:only-of-type {\n",
       "        vertical-align: middle;\n",
       "    }\n",
       "\n",
       "    .dataframe tbody tr th {\n",
       "        vertical-align: top;\n",
       "    }\n",
       "\n",
       "    .dataframe thead th {\n",
       "        text-align: right;\n",
       "    }\n",
       "</style>\n",
       "<table border=\"1\" class=\"dataframe\">\n",
       "  <thead>\n",
       "    <tr style=\"text-align: right;\">\n",
       "      <th></th>\n",
       "      <th>CustomerID</th>\n",
       "      <th>Recency</th>\n",
       "      <th>Frequency</th>\n",
       "      <th>Monetary</th>\n",
       "      <th>Clusters</th>\n",
       "    </tr>\n",
       "  </thead>\n",
       "  <tbody>\n",
       "    <tr>\n",
       "      <th>0</th>\n",
       "      <td>12346.0</td>\n",
       "      <td>325</td>\n",
       "      <td>2.000000</td>\n",
       "      <td>0.000000</td>\n",
       "      <td>1</td>\n",
       "    </tr>\n",
       "    <tr>\n",
       "      <th>1</th>\n",
       "      <td>12347.0</td>\n",
       "      <td>1</td>\n",
       "      <td>182.000000</td>\n",
       "      <td>1898.459701</td>\n",
       "      <td>4</td>\n",
       "    </tr>\n",
       "    <tr>\n",
       "      <th>2</th>\n",
       "      <td>12348.0</td>\n",
       "      <td>74</td>\n",
       "      <td>31.000000</td>\n",
       "      <td>1797.240000</td>\n",
       "      <td>4</td>\n",
       "    </tr>\n",
       "    <tr>\n",
       "      <th>3</th>\n",
       "      <td>12349.0</td>\n",
       "      <td>18</td>\n",
       "      <td>73.000000</td>\n",
       "      <td>1757.550000</td>\n",
       "      <td>4</td>\n",
       "    </tr>\n",
       "    <tr>\n",
       "      <th>4</th>\n",
       "      <td>12350.0</td>\n",
       "      <td>309</td>\n",
       "      <td>17.000000</td>\n",
       "      <td>334.400000</td>\n",
       "      <td>1</td>\n",
       "    </tr>\n",
       "    <tr>\n",
       "      <th>...</th>\n",
       "      <td>...</td>\n",
       "      <td>...</td>\n",
       "      <td>...</td>\n",
       "      <td>...</td>\n",
       "      <td>...</td>\n",
       "    </tr>\n",
       "    <tr>\n",
       "      <th>4367</th>\n",
       "      <td>18280.0</td>\n",
       "      <td>277</td>\n",
       "      <td>10.000000</td>\n",
       "      <td>180.600000</td>\n",
       "      <td>5</td>\n",
       "    </tr>\n",
       "    <tr>\n",
       "      <th>4368</th>\n",
       "      <td>18281.0</td>\n",
       "      <td>180</td>\n",
       "      <td>7.000000</td>\n",
       "      <td>80.820000</td>\n",
       "      <td>5</td>\n",
       "    </tr>\n",
       "    <tr>\n",
       "      <th>4369</th>\n",
       "      <td>18282.0</td>\n",
       "      <td>7</td>\n",
       "      <td>13.000000</td>\n",
       "      <td>176.600000</td>\n",
       "      <td>5</td>\n",
       "    </tr>\n",
       "    <tr>\n",
       "      <th>4370</th>\n",
       "      <td>18283.0</td>\n",
       "      <td>3</td>\n",
       "      <td>93.053294</td>\n",
       "      <td>2094.880000</td>\n",
       "      <td>2</td>\n",
       "    </tr>\n",
       "    <tr>\n",
       "      <th>4371</th>\n",
       "      <td>18287.0</td>\n",
       "      <td>42</td>\n",
       "      <td>70.000000</td>\n",
       "      <td>1837.280000</td>\n",
       "      <td>2</td>\n",
       "    </tr>\n",
       "  </tbody>\n",
       "</table>\n",
       "<p>4372 rows × 5 columns</p>\n",
       "</div>"
      ],
      "text/plain": [
       "      CustomerID  Recency   Frequency     Monetary  Clusters\n",
       "0        12346.0      325    2.000000     0.000000         1\n",
       "1        12347.0        1  182.000000  1898.459701         4\n",
       "2        12348.0       74   31.000000  1797.240000         4\n",
       "3        12349.0       18   73.000000  1757.550000         4\n",
       "4        12350.0      309   17.000000   334.400000         1\n",
       "...          ...      ...         ...          ...       ...\n",
       "4367     18280.0      277   10.000000   180.600000         5\n",
       "4368     18281.0      180    7.000000    80.820000         5\n",
       "4369     18282.0        7   13.000000   176.600000         5\n",
       "4370     18283.0        3   93.053294  2094.880000         2\n",
       "4371     18287.0       42   70.000000  1837.280000         2\n",
       "\n",
       "[4372 rows x 5 columns]"
      ]
     },
     "execution_count": 21,
     "metadata": {},
     "output_type": "execute_result"
    }
   ],
   "source": [
    "#assigning clusters to the dataframe\n",
    "\n",
    "RFM['Clusters']= kmeans.labels_\n",
    "RFM"
   ]
  },
  {
   "cell_type": "markdown",
   "id": "a1113e9d",
   "metadata": {},
   "source": [
    "To understand the clustering groups better, a boxplot for each of the factor under RFM is plotted. \n",
    "The below plot indicates the Recency factor of customers under each cluster group."
   ]
  },
  {
   "cell_type": "code",
   "execution_count": 22,
   "id": "f33b04fa",
   "metadata": {},
   "outputs": [
    {
     "data": {
      "text/plain": [
       "Text(0.5, 1.0, 'Classification of Customers_Recency')"
      ]
     },
     "execution_count": 22,
     "metadata": {},
     "output_type": "execute_result"
    },
    {
     "data": {
      "image/png": "[encoded data removed]",
      "text/plain": [
       "<Figure size 576x576 with 1 Axes>"
      ]
     },
     "metadata": {
      "needs_background": "light"
     },
     "output_type": "display_data"
    }
   ],
   "source": [
    "#plotting clusters for Recency\n",
    "\n",
    "plt.figure(figsize=(8,8))\n",
    "sb.boxplot(x=\"Clusters\", y=\"Recency\", data=RFM, palette=\"Set1\")\n",
    "plt.title(\"Classification of Customers_Recency\")"
   ]
  },
  {
   "cell_type": "markdown",
   "id": "c5c44f5e",
   "metadata": {},
   "source": [
    "From the \"Classification of Customers_Recency\" plot it is observed that the customers with recent purchases from the company are clustered under the clusters 1,3 and 5.\n",
    "\n",
    "The next one is to plot the Frequency factor of customers under each cluster."
   ]
  },
  {
   "cell_type": "code",
   "execution_count": 23,
   "id": "23f4c374",
   "metadata": {},
   "outputs": [
    {
     "data": {
      "text/plain": [
       "Text(0.5, 1.0, 'Classification of Customers_Frequency')"
      ]
     },
     "execution_count": 23,
     "metadata": {},
     "output_type": "execute_result"
    },
    {
     "data": {
      "image/png": "[encoded data removed]",
      "text/plain": [
       "<Figure size 576x576 with 1 Axes>"
      ]
     },
     "metadata": {
      "needs_background": "light"
     },
     "output_type": "display_data"
    }
   ],
   "source": [
    "#plotting clusters for Frequency\n",
    "\n",
    "plt.figure(figsize=(8,8))\n",
    "sb.boxplot(x=\"Clusters\", y=\"Frequency\", data=RFM, palette=\"Set1\")\n",
    "plt.title(\"Classification of Customers_Frequency\")"
   ]
  },
  {
   "cell_type": "markdown",
   "id": "4ae44017",
   "metadata": {},
   "source": [
    "From the \"Classification of Customers_Frequency\" plot it is observed that the customers who are frequent buyers from the company are clustered mostly under cluster 0 and 4 followed by cluster 2.\n",
    "\n",
    "The next one is to plot the Monetary factor of customers under each cluster."
   ]
  },
  {
   "cell_type": "code",
   "execution_count": 24,
   "id": "22c55ce2",
   "metadata": {},
   "outputs": [
    {
     "data": {
      "text/plain": [
       "Text(0.5, 1.0, 'Classification of Customers_Monetary')"
      ]
     },
     "execution_count": 24,
     "metadata": {},
     "output_type": "execute_result"
    },
    {
     "data": {
      "image/png": "[encoded data removed]",
      "text/plain": [
       "<Figure size 576x576 with 1 Axes>"
      ]
     },
     "metadata": {
      "needs_background": "light"
     },
     "output_type": "display_data"
    }
   ],
   "source": [
    "#plotting clusters for Monetary\n",
    "\n",
    "plt.figure(figsize=(8,8))\n",
    "sb.boxplot(x=\"Clusters\", y=\"Monetary\", data=RFM, palette=\"Set1\")\n",
    "plt.title(\"Classification of Customers_Monetary\")"
   ]
  },
  {
   "cell_type": "markdown",
   "id": "fd4af670",
   "metadata": {},
   "source": [
    "From the \"Classification of Customers_Monetary\" plot it is observed that the customers who has high purchase values from the company are clustered mostly under cluster 0 followed by cluster 4 and cluster 2."
   ]
  },
  {
   "cell_type": "markdown",
   "id": "18bcce5b",
   "metadata": {},
   "source": [
    "<u>**CONCLUSION**</u>"
   ]
  },
  {
   "cell_type": "markdown",
   "id": "c264f48f",
   "metadata": {},
   "source": [
    "In this project segmentation of customers is done for a company, so that based on the current situation of customers future marketing strategies can be developed inorder to increase the company value. To achieve this RFM analysis along with k-means clustering model is used, in which customers are divided into 3 categories based on the purchases made by them. In RFM analysis the customers are divided based on how recently(Recency), how often(Frequency) and how much amount of purchases made(Monetary). After applying the k-means clustering model from the three plots \"Classification of Customers_Recency\", \"Classification of Customers_Frequency\", \"Classification of Customers_Monetary\" it is observed that\n",
    "\n",
    "1. Cluster 0 indicates the customers who are bought products from the company frequently as well as also includes customers who made high amount purchases.\n",
    "\n",
    "2. Clusters 1, 3 and 5 indicates the customers who bought products from the company recently.\n",
    "\n",
    "3. Clusters 2 and 4 identifies the customers who bought products frequently from the company along with cluster 0.\n",
    "\n",
    "Based on this classification whenever the company wants to promote or change their marketing techniques it is important to study the group of customers they need to focus on. It can be done with these clusters for example inorder to study the latest preferences of customers, it can be obtained by studing the preferences of customers in cluster 1,3 and 5 and from cluster 0,2,4 one can identify the preferences/choices of customers who purchased products frequenlty. In case of high amount purchased products, in this company one needs to study the clusters 0,2,4 as from \"Classification of Customers_Monetary\" plot it is observed that these clusters has greater proportion of customers with high amount purchases.\n"
   ]
  },
  {
   "cell_type": "markdown",
   "id": "367f6bf8",
   "metadata": {},
   "source": [
    "<u>**REFERENCES**</u>"
   ]
  },
  {
   "cell_type": "markdown",
   "id": "712cfed1",
   "metadata": {},
   "source": [
    "1. https://www.kaggle.com/code/hellbuoy/online-retail-k-means-hierarchical-clustering\n",
    "\n",
    "2. https://towardsdatascience.com/k-means-clustering-algorithm-applications-evaluation-methods-and-drawbacks-aa03e644b48a\n",
    "\n",
    "3. https://www.putler.com/rfm-analysis/\n",
    "\n",
    "4. https://pandas.pydata.org/pandas-docs/stable/reference/api/pandas.DataFrame.merge.html\n",
    "\n",
    "5. https://careerfoundry.com/en/blog/data-analytics/how-to-find-outliers/\n",
    "\n",
    "6. https://en.wikipedia.org/wiki/Silhouette_(clustering)"
   ]
  }
 ],
 "metadata": {
  "kernelspec": {
   "display_name": "Python 3 (ipykernel)",
   "language": "python",
   "name": "python3"
  },
  "language_info": {
   "codemirror_mode": {
    "name": "ipython",
    "version": 3
   },
   "file_extension": ".py",
   "mimetype": "text/x-python",
   "name": "python",
   "nbconvert_exporter": "python",
   "pygments_lexer": "ipython3",
   "version": "3.9.12"
  }
 },
 "nbformat": 4,
 "nbformat_minor": 5
}
